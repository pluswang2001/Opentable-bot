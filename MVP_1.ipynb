{
 "cells": [
  {
   "cell_type": "code",
   "execution_count": 1,
   "outputs": [],
   "source": [
    "from selenium.webdriver.chrome.service import Service\n",
    "from selenium import webdriver\n",
    "from selenium.webdriver.common.by import By\n",
    "\n",
    "service = Service(executable_path=\"Setup/chromedriver_win32/chromedriver.exe\")\n",
    "driver = webdriver.Chrome(service=service)"
   ],
   "metadata": {
    "collapsed": false,
    "pycharm": {
     "name": "#%%\n"
    }
   }
  },
  {
   "cell_type": "code",
   "execution_count": 2,
   "outputs": [],
   "source": [
    "driver.get(\"https://www.opentable.com/r/mala-ocean-tavern-lahaina?originId=e9b0746d-7dda-4286-8105-bafaa354c30b&corrid=e9b0746d-7dda-4286-8105-bafaa354c30b&avt=eyJ2IjoyLCJtIjoxLCJwIjowLCJzIjowLCJuIjowfQ\")"
   ],
   "metadata": {
    "collapsed": false,
    "pycharm": {
     "name": "#%%\n"
    }
   }
  },
  {
   "cell_type": "code",
   "execution_count": 3,
   "outputs": [
    {
     "name": "stdout",
     "output_type": "stream",
     "text": [
      "<selenium.webdriver.remote.webelement.WebElement (session=\"3994ca86996d1d0dc696b0779fd05417\", element=\"e468baf6-0b02-4377-82d1-0f121f8baa0e\")>\n"
     ]
    }
   ],
   "source": [
    "# Clicks on the Find a Time button once\n",
    "find_a_time = driver.find_element(By.XPATH,'//button[@class=\\'oj_Zftq0Z_Ts7usxdiLc WkATSvkvJnLhgjlINRzg n0GonOKcEH4mc03kM4Jz pREW2ZkuYncjapZLLnc3\\']')\n",
    "print(find_a_time)\n",
    "find_a_time.click()"
   ],
   "metadata": {
    "collapsed": false,
    "pycharm": {
     "name": "#%%\n"
    }
   }
  },
  {
   "cell_type": "code",
   "execution_count": 5,
   "outputs": [
    {
     "name": "stdout",
     "output_type": "stream",
     "text": [
      "<selenium.webdriver.remote.webelement.WebElement (session=\"3994ca86996d1d0dc696b0779fd05417\", element=\"76563cc4-9c2a-462c-ab10-c9b32f88afa2\")>\n"
     ]
    }
   ],
   "source": [
    "# Clicks on the first time option that it sees\n",
    "time = driver.find_element(By.XPATH,'//a[@class=\\'bETxFc0PTzBevlzc_TpO\\']')\n",
    "print(time)\n",
    "time.click()"
   ],
   "metadata": {
    "collapsed": false,
    "pycharm": {
     "name": "#%%\n"
    }
   }
  },
  {
   "cell_type": "code",
   "execution_count": null,
   "outputs": [],
   "source": [
    "# Clicks on the first time option that it sees\n",
    "confirm = driver.find_element(By.ID,'complete-reservation')\n",
    "print(confirm)\n",
    "confirm.click()"
   ],
   "metadata": {
    "collapsed": false,
    "pycharm": {
     "name": "#%%\n"
    }
   }
  }
 ],
 "metadata": {
  "kernelspec": {
   "name": "venv",
   "language": "python",
   "display_name": "venv"
  },
  "language_info": {
   "codemirror_mode": {
    "name": "ipython",
    "version": 2
   },
   "file_extension": ".py",
   "mimetype": "text/x-python",
   "name": "python",
   "nbconvert_exporter": "python",
   "pygments_lexer": "ipython2",
   "version": "2.7.6"
  }
 },
 "nbformat": 4,
 "nbformat_minor": 0
}