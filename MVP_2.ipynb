{
 "cells": [
  {
   "cell_type": "code",
   "execution_count": 11,
   "metadata": {
    "collapsed": true
   },
   "outputs": [],
   "source": [
    "from selenium.webdriver.chrome.service import Service\n",
    "from selenium import webdriver\n",
    "from selenium.webdriver.common.by import By\n",
    "from Helper.ActionHelpers import *\n",
    "\n",
    "service = Service(executable_path=\"Setup/chromedriver_win32/chromedriver.exe\")\n",
    "driver = webdriver.Chrome(service=service)"
   ]
  },
  {
   "cell_type": "markdown",
   "source": [
    "<b>The script below is MVP 1 with action chains</b>"
   ],
   "metadata": {
    "collapsed": false,
    "pycharm": {
     "name": "#%% md\n"
    }
   }
  },
  {
   "cell_type": "code",
   "execution_count": 12,
   "outputs": [
    {
     "ename": "AttributeError",
     "evalue": "'Actions' object has no attribute '_actions'",
     "output_type": "error",
     "traceback": [
      "\u001B[1;31m---------------------------------------------------------------------------\u001B[0m",
      "\u001B[1;31mAttributeError\u001B[0m                            Traceback (most recent call last)",
      "Cell \u001B[1;32mIn[12], line 8\u001B[0m\n\u001B[0;32m      6\u001B[0m \u001B[38;5;66;03m# confirm.click()\u001B[39;00m\n\u001B[0;32m      7\u001B[0m action\u001B[38;5;241m.\u001B[39mclick(find_a_time)\n\u001B[1;32m----> 8\u001B[0m \u001B[43maction\u001B[49m\u001B[38;5;241;43m.\u001B[39;49m\u001B[43mwait\u001B[49m\u001B[43m(\u001B[49m\u001B[38;5;241;43m1\u001B[39;49m\u001B[43m)\u001B[49m\n\u001B[0;32m      9\u001B[0m \u001B[38;5;66;03m# Clicks on the first time option that it sees\u001B[39;00m\n\u001B[0;32m     10\u001B[0m time \u001B[38;5;241m=\u001B[39m driver\u001B[38;5;241m.\u001B[39mfind_element(By\u001B[38;5;241m.\u001B[39mXPATH,\u001B[38;5;124m'\u001B[39m\u001B[38;5;124m//a[@class=\u001B[39m\u001B[38;5;130;01m\\'\u001B[39;00m\u001B[38;5;124mbETxFc0PTzBevlzc_TpO\u001B[39m\u001B[38;5;130;01m\\'\u001B[39;00m\u001B[38;5;124m]\u001B[39m\u001B[38;5;124m'\u001B[39m)\n",
      "File \u001B[1;32m~\\Documents\\UBC\\SarahBot\\Helper\\ActionHelpers.py:7\u001B[0m, in \u001B[0;36mActions.wait\u001B[1;34m(self, time_s)\u001B[0m\n\u001B[0;32m      6\u001B[0m \u001B[38;5;28;01mdef\u001B[39;00m \u001B[38;5;21mwait\u001B[39m(\u001B[38;5;28mself\u001B[39m, time_s: \u001B[38;5;28mfloat\u001B[39m):\n\u001B[1;32m----> 7\u001B[0m     \u001B[38;5;28;43mself\u001B[39;49m\u001B[38;5;241;43m.\u001B[39;49m\u001B[43m_actions\u001B[49m\u001B[38;5;241m.\u001B[39mappend(\u001B[38;5;28;01mlambda\u001B[39;00m: time\u001B[38;5;241m.\u001B[39msleep(time_s))\n\u001B[0;32m      8\u001B[0m     \u001B[38;5;28;01mreturn\u001B[39;00m \u001B[38;5;28mself\u001B[39m\n",
      "\u001B[1;31mAttributeError\u001B[0m: 'Actions' object has no attribute '_actions'"
     ]
    }
   ],
   "source": [
    "\n",
    "driver.get(\"https://www.opentable.com/r/mala-ocean-tavern-lahaina?originId=e9b0746d-7dda-4286-8105-bafaa354c30b&corrid=e9b0746d-7dda-4286-8105-bafaa354c30b&avt=eyJ2IjoyLCJtIjoxLCJwIjowLCJzIjowLCJuIjowfQ\")\n",
    "\n",
    "action = Actions(driver)\n",
    "# Clicks on the Find a Time button once\n",
    "find_a_time = driver.find_element(By.XPATH,'//button[@class=\\'oj_Zftq0Z_Ts7usxdiLc WkATSvkvJnLhgjlINRzg n0GonOKcEH4mc03kM4Jz pREW2ZkuYncjapZLLnc3\\']')\n",
    "# confirm.click()\n",
    "action.click(find_a_time)\n",
    "action.wait(1)\n",
    "# Clicks on the first time option that it sees\n",
    "time = driver.find_element(By.XPATH,'//a[@class=\\'bETxFc0PTzBevlzc_TpO\\']')\n",
    "action.click(time)\n",
    "action.wait(1)\n",
    "# Clicks on the complete-reservation button\n",
    "confirm = driver.find_element(By.ID,'complete-reservation')\n",
    "action.click(confirm)"
   ],
   "metadata": {
    "collapsed": false,
    "pycharm": {
     "name": "#%%\n"
    }
   }
  },
  {
   "cell_type": "markdown",
   "source": [
    "<b> We will attempt to chain action</b>"
   ],
   "metadata": {
    "collapsed": false,
    "pycharm": {
     "name": "#%% md\n"
    }
   }
  },
  {
   "cell_type": "code",
   "execution_count": null,
   "outputs": [],
   "source": [],
   "metadata": {
    "collapsed": false,
    "pycharm": {
     "name": "#%%\n"
    }
   }
  },
  {
   "cell_type": "code",
   "execution_count": null,
   "outputs": [],
   "source": [],
   "metadata": {
    "collapsed": false,
    "pycharm": {
     "name": "#%%\n"
    }
   }
  }
 ],
 "metadata": {
  "kernelspec": {
   "display_name": "Python 3",
   "language": "python",
   "name": "python3"
  },
  "language_info": {
   "codemirror_mode": {
    "name": "ipython",
    "version": 2
   },
   "file_extension": ".py",
   "mimetype": "text/x-python",
   "name": "python",
   "nbconvert_exporter": "python",
   "pygments_lexer": "ipython2",
   "version": "2.7.6"
  }
 },
 "nbformat": 4,
 "nbformat_minor": 0
}